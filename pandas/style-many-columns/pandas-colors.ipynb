{
 "cells": [
  {
   "cell_type": "code",
   "execution_count": 1,
   "metadata": {},
   "outputs": [],
   "source": [
    "import pandas as pd\n",
    "import numpy as np"
   ]
  },
  {
   "cell_type": "code",
   "execution_count": 2,
   "metadata": {},
   "outputs": [],
   "source": [
    "df = pd.DataFrame([[0,0,0,],[1,1,1],[2,2,2],[80,80,80]])\n",
    "\n",
    "df.columns = ['a', 'b', 'c']"
   ]
  },
  {
   "cell_type": "code",
   "execution_count": 3,
   "metadata": {
    "scrolled": true
   },
   "outputs": [
    {
     "data": {
      "text/html": [
       "<style  type=\"text/css\" >\n",
       "    #T_bcd41a04_66a5_11e8_b952_c417fe468e01row0_col0 {\n",
       "            color:  red;\n",
       "        }    #T_bcd41a04_66a5_11e8_b952_c417fe468e01row0_col1 {\n",
       "            color:  red;\n",
       "        }    #T_bcd41a04_66a5_11e8_b952_c417fe468e01row0_col2 {\n",
       "            color:  red;\n",
       "        }    #T_bcd41a04_66a5_11e8_b952_c417fe468e01row1_col0 {\n",
       "            color:  green;\n",
       "        }    #T_bcd41a04_66a5_11e8_b952_c417fe468e01row1_col1 {\n",
       "            color:  red;\n",
       "        }    #T_bcd41a04_66a5_11e8_b952_c417fe468e01row1_col2 {\n",
       "            color:  red;\n",
       "        }    #T_bcd41a04_66a5_11e8_b952_c417fe468e01row2_col0 {\n",
       "            color:  green;\n",
       "        }    #T_bcd41a04_66a5_11e8_b952_c417fe468e01row2_col1 {\n",
       "            color:  green;\n",
       "        }    #T_bcd41a04_66a5_11e8_b952_c417fe468e01row2_col2 {\n",
       "            color:  red;\n",
       "        }    #T_bcd41a04_66a5_11e8_b952_c417fe468e01row3_col0 {\n",
       "            color:  green;\n",
       "        }    #T_bcd41a04_66a5_11e8_b952_c417fe468e01row3_col1 {\n",
       "            color:  green;\n",
       "        }    #T_bcd41a04_66a5_11e8_b952_c417fe468e01row3_col2 {\n",
       "            color:  green;\n",
       "        }</style>  \n",
       "<table id=\"T_bcd41a04_66a5_11e8_b952_c417fe468e01\" > \n",
       "<thead>    <tr> \n",
       "        <th class=\"blank level0\" ></th> \n",
       "        <th class=\"col_heading level0 col0\" >a</th> \n",
       "        <th class=\"col_heading level0 col1\" >b</th> \n",
       "        <th class=\"col_heading level0 col2\" >c</th> \n",
       "    </tr></thead> \n",
       "<tbody>    <tr> \n",
       "        <th id=\"T_bcd41a04_66a5_11e8_b952_c417fe468e01level0_row0\" class=\"row_heading level0 row0\" >0</th> \n",
       "        <td id=\"T_bcd41a04_66a5_11e8_b952_c417fe468e01row0_col0\" class=\"data row0 col0\" >0</td> \n",
       "        <td id=\"T_bcd41a04_66a5_11e8_b952_c417fe468e01row0_col1\" class=\"data row0 col1\" >0</td> \n",
       "        <td id=\"T_bcd41a04_66a5_11e8_b952_c417fe468e01row0_col2\" class=\"data row0 col2\" >0</td> \n",
       "    </tr>    <tr> \n",
       "        <th id=\"T_bcd41a04_66a5_11e8_b952_c417fe468e01level0_row1\" class=\"row_heading level0 row1\" >1</th> \n",
       "        <td id=\"T_bcd41a04_66a5_11e8_b952_c417fe468e01row1_col0\" class=\"data row1 col0\" >1</td> \n",
       "        <td id=\"T_bcd41a04_66a5_11e8_b952_c417fe468e01row1_col1\" class=\"data row1 col1\" >1</td> \n",
       "        <td id=\"T_bcd41a04_66a5_11e8_b952_c417fe468e01row1_col2\" class=\"data row1 col2\" >1</td> \n",
       "    </tr>    <tr> \n",
       "        <th id=\"T_bcd41a04_66a5_11e8_b952_c417fe468e01level0_row2\" class=\"row_heading level0 row2\" >2</th> \n",
       "        <td id=\"T_bcd41a04_66a5_11e8_b952_c417fe468e01row2_col0\" class=\"data row2 col0\" >2</td> \n",
       "        <td id=\"T_bcd41a04_66a5_11e8_b952_c417fe468e01row2_col1\" class=\"data row2 col1\" >2</td> \n",
       "        <td id=\"T_bcd41a04_66a5_11e8_b952_c417fe468e01row2_col2\" class=\"data row2 col2\" >2</td> \n",
       "    </tr>    <tr> \n",
       "        <th id=\"T_bcd41a04_66a5_11e8_b952_c417fe468e01level0_row3\" class=\"row_heading level0 row3\" >3</th> \n",
       "        <td id=\"T_bcd41a04_66a5_11e8_b952_c417fe468e01row3_col0\" class=\"data row3 col0\" >80</td> \n",
       "        <td id=\"T_bcd41a04_66a5_11e8_b952_c417fe468e01row3_col1\" class=\"data row3 col1\" >80</td> \n",
       "        <td id=\"T_bcd41a04_66a5_11e8_b952_c417fe468e01row3_col2\" class=\"data row3 col2\" >80</td> \n",
       "    </tr></tbody> \n",
       "</table> "
      ],
      "text/plain": [
       "<pandas.io.formats.style.Styler at 0x7f8860a9b320>"
      ]
     },
     "execution_count": 3,
     "metadata": {},
     "output_type": "execute_result"
    }
   ],
   "source": [
    "#-----------------------------------------------\n",
    "\n",
    "def add_color(style, key, value):\n",
    "    \n",
    "    def color(val): \n",
    "        return \"color: red\" if val < value else \"color: green\"\n",
    "    \n",
    "    return style.applymap(color, subset=[key])\n",
    "\n",
    "#-----------------------------------------------\n",
    "\n",
    "def add_many(df, data):\n",
    "    s = df.style\n",
    "\n",
    "    for k,v in data.items():\n",
    "        s = add_color(s, k, v)\n",
    "        \n",
    "    return s\n",
    "\n",
    "#-----------------------------------------------\n",
    "\n",
    "add_many(df, {'a':1, 'b':2, 'c':80})"
   ]
  },
  {
   "cell_type": "code",
   "execution_count": null,
   "metadata": {},
   "outputs": [],
   "source": []
  }
 ],
 "metadata": {
  "kernelspec": {
   "display_name": "Python 3",
   "language": "python",
   "name": "python3"
  },
  "language_info": {
   "codemirror_mode": {
    "name": "ipython",
    "version": 3
   },
   "file_extension": ".py",
   "mimetype": "text/x-python",
   "name": "python",
   "nbconvert_exporter": "python",
   "pygments_lexer": "ipython3",
   "version": "3.6.5"
  }
 },
 "nbformat": 4,
 "nbformat_minor": 2
}
